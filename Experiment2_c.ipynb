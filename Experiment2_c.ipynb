{
  "nbformat": 4,
  "nbformat_minor": 0,
  "metadata": {
    "colab": {
      "name": "Experiment2_c.ipynb",
      "provenance": [],
      "include_colab_link": true
    },
    "kernelspec": {
      "name": "python3",
      "display_name": "Python 3"
    },
    "language_info": {
      "name": "python"
    },
    "accelerator": "GPU"
  },
  "cells": [
    {
      "cell_type": "markdown",
      "metadata": {
        "id": "view-in-github",
        "colab_type": "text"
      },
      "source": [
        "<a href=\"https://colab.research.google.com/github/TasnimJumara/TableAssignmentFirst/blob/master/Experiment2_c.ipynb\" target=\"_parent\"><img src=\"https://colab.research.google.com/assets/colab-badge.svg\" alt=\"Open In Colab\"/></a>"
      ]
    },
    {
      "cell_type": "code",
      "metadata": {
        "id": "Z8uEVwddtzIq"
      },
      "source": [
        "import torch\n",
        "import torch.nn as nn\n",
        "import torch.optim as optim\n",
        "import torchvision.transforms as transforms\n",
        "import torchvision\n",
        "from torch.utils.data import DataLoader\n",
        "from torch.utils.data import Dataset\n",
        "import cv2\n",
        "from customDataset import DigitFindingDataset\n",
        "\n",
        "import warnings\n",
        "import time,sys\n",
        "import copy\n",
        "import torch.optim as optim\n",
        "import pathlib\n",
        "import shutil\n",
        "from pathlib import Path\n",
        "from collections import Counter\n",
        "!pip install torchsummary\n",
        "from torchsummary import summary\n",
        "\n",
        "!pip install torchviz\n",
        "from torchviz import make_dot, make_dot_from_trace\n",
        "\n",
        "warnings.filterwarnings('ignore')\n",
        "torch.manual_seed(0)\n",
        "\n",
        "from torch.utils.data import (\n",
        "    Dataset,\n",
        "    DataLoader,\n",
        ") \n"
      ],
      "execution_count": null,
      "outputs": []
    },
    {
      "cell_type": "code",
      "metadata": {
        "colab": {
          "base_uri": "https://localhost:8080/"
        },
        "id": "sbWahSQHmLiQ",
        "outputId": "e9114f0c-cc7f-419f-9b9e-f536c070e922"
      },
      "source": [
        "from google.colab import drive\n",
        "drive.mount('/content/drive')"
      ],
      "execution_count": null,
      "outputs": [
        {
          "output_type": "stream",
          "name": "stdout",
          "text": [
            "Mounted at /content/drive\n"
          ]
        }
      ]
    },
    {
      "cell_type": "code",
      "metadata": {
        "id": "oj9U1AhLwDJk"
      },
      "source": [
        "device=torch.device('cuda' if torch.cuda.is_available() else 'cpu')"
      ],
      "execution_count": null,
      "outputs": []
    },
    {
      "cell_type": "code",
      "metadata": {
        "colab": {
          "base_uri": "https://localhost:8080/"
        },
        "id": "k_2nhF8DJIUw",
        "outputId": "c68f355c-065b-4b0e-ddb8-d075276cd378"
      },
      "source": [
        "print(device)"
      ],
      "execution_count": null,
      "outputs": [
        {
          "output_type": "stream",
          "name": "stdout",
          "text": [
            "cuda\n"
          ]
        }
      ]
    },
    {
      "cell_type": "code",
      "metadata": {
        "id": "kV0Ou6Tdwoz8"
      },
      "source": [
        "import pandas as pd"
      ],
      "execution_count": null,
      "outputs": []
    },
    {
      "cell_type": "code",
      "metadata": {
        "id": "DoO5SveHyT5k"
      },
      "source": [
        "dataset1=pd.read_csv(r'/content/sample_data/training-a.csv')"
      ],
      "execution_count": null,
      "outputs": []
    },
    {
      "cell_type": "code",
      "metadata": {
        "id": "ydglqbidyfTX",
        "colab": {
          "base_uri": "https://localhost:8080/",
          "height": 204
        },
        "outputId": "d2cf9b13-73d3-4b96-fca2-c95441bac49d"
      },
      "source": [
        "dataset1.head()"
      ],
      "execution_count": null,
      "outputs": [
        {
          "output_type": "execute_result",
          "data": {
            "text/html": [
              "<div>\n",
              "<style scoped>\n",
              "    .dataframe tbody tr th:only-of-type {\n",
              "        vertical-align: middle;\n",
              "    }\n",
              "\n",
              "    .dataframe tbody tr th {\n",
              "        vertical-align: top;\n",
              "    }\n",
              "\n",
              "    .dataframe thead th {\n",
              "        text-align: right;\n",
              "    }\n",
              "</style>\n",
              "<table border=\"1\" class=\"dataframe\">\n",
              "  <thead>\n",
              "    <tr style=\"text-align: right;\">\n",
              "      <th></th>\n",
              "      <th>filename</th>\n",
              "      <th>original filename</th>\n",
              "      <th>scanid</th>\n",
              "      <th>digit</th>\n",
              "      <th>database name original</th>\n",
              "      <th>contributing team</th>\n",
              "      <th>database name</th>\n",
              "    </tr>\n",
              "  </thead>\n",
              "  <tbody>\n",
              "    <tr>\n",
              "      <th>0</th>\n",
              "      <td>a00000.png</td>\n",
              "      <td>Scan_58_digit_5_num_8.png</td>\n",
              "      <td>58</td>\n",
              "      <td>5</td>\n",
              "      <td>BHDDB</td>\n",
              "      <td>Buet_Broncos</td>\n",
              "      <td>training-a</td>\n",
              "    </tr>\n",
              "    <tr>\n",
              "      <th>1</th>\n",
              "      <td>a00001.png</td>\n",
              "      <td>Scan_73_digit_3_num_5.png</td>\n",
              "      <td>73</td>\n",
              "      <td>3</td>\n",
              "      <td>BHDDB</td>\n",
              "      <td>Buet_Broncos</td>\n",
              "      <td>training-a</td>\n",
              "    </tr>\n",
              "    <tr>\n",
              "      <th>2</th>\n",
              "      <td>a00002.png</td>\n",
              "      <td>Scan_18_digit_1_num_3.png</td>\n",
              "      <td>18</td>\n",
              "      <td>1</td>\n",
              "      <td>BHDDB</td>\n",
              "      <td>Buet_Broncos</td>\n",
              "      <td>training-a</td>\n",
              "    </tr>\n",
              "    <tr>\n",
              "      <th>3</th>\n",
              "      <td>a00003.png</td>\n",
              "      <td>Scan_166_digit_7_num_3.png</td>\n",
              "      <td>166</td>\n",
              "      <td>7</td>\n",
              "      <td>BHDDB</td>\n",
              "      <td>Buet_Broncos</td>\n",
              "      <td>training-a</td>\n",
              "    </tr>\n",
              "    <tr>\n",
              "      <th>4</th>\n",
              "      <td>a00004.png</td>\n",
              "      <td>Scan_108_digit_0_num_1.png</td>\n",
              "      <td>108</td>\n",
              "      <td>0</td>\n",
              "      <td>BHDDB</td>\n",
              "      <td>Buet_Broncos</td>\n",
              "      <td>training-a</td>\n",
              "    </tr>\n",
              "  </tbody>\n",
              "</table>\n",
              "</div>"
            ],
            "text/plain": [
              "     filename           original filename  ...  contributing team  database name\n",
              "0  a00000.png   Scan_58_digit_5_num_8.png  ...       Buet_Broncos     training-a\n",
              "1  a00001.png   Scan_73_digit_3_num_5.png  ...       Buet_Broncos     training-a\n",
              "2  a00002.png   Scan_18_digit_1_num_3.png  ...       Buet_Broncos     training-a\n",
              "3  a00003.png  Scan_166_digit_7_num_3.png  ...       Buet_Broncos     training-a\n",
              "4  a00004.png  Scan_108_digit_0_num_1.png  ...       Buet_Broncos     training-a\n",
              "\n",
              "[5 rows x 7 columns]"
            ]
          },
          "metadata": {},
          "execution_count": 8
        }
      ]
    },
    {
      "cell_type": "code",
      "metadata": {
        "id": "9-OEuLeUyiUm"
      },
      "source": [
        "dataset1.drop('original filename',axis=1,inplace=True)"
      ],
      "execution_count": null,
      "outputs": []
    },
    {
      "cell_type": "code",
      "metadata": {
        "colab": {
          "base_uri": "https://localhost:8080/",
          "height": 204
        },
        "id": "s0d7KQNo1_Fj",
        "outputId": "697ee34d-57fe-437f-fe31-ea9e7e8fafd7"
      },
      "source": [
        "dataset1.head()"
      ],
      "execution_count": null,
      "outputs": [
        {
          "output_type": "execute_result",
          "data": {
            "text/html": [
              "<div>\n",
              "<style scoped>\n",
              "    .dataframe tbody tr th:only-of-type {\n",
              "        vertical-align: middle;\n",
              "    }\n",
              "\n",
              "    .dataframe tbody tr th {\n",
              "        vertical-align: top;\n",
              "    }\n",
              "\n",
              "    .dataframe thead th {\n",
              "        text-align: right;\n",
              "    }\n",
              "</style>\n",
              "<table border=\"1\" class=\"dataframe\">\n",
              "  <thead>\n",
              "    <tr style=\"text-align: right;\">\n",
              "      <th></th>\n",
              "      <th>filename</th>\n",
              "      <th>scanid</th>\n",
              "      <th>digit</th>\n",
              "      <th>database name original</th>\n",
              "      <th>contributing team</th>\n",
              "      <th>database name</th>\n",
              "    </tr>\n",
              "  </thead>\n",
              "  <tbody>\n",
              "    <tr>\n",
              "      <th>0</th>\n",
              "      <td>a00000.png</td>\n",
              "      <td>58</td>\n",
              "      <td>5</td>\n",
              "      <td>BHDDB</td>\n",
              "      <td>Buet_Broncos</td>\n",
              "      <td>training-a</td>\n",
              "    </tr>\n",
              "    <tr>\n",
              "      <th>1</th>\n",
              "      <td>a00001.png</td>\n",
              "      <td>73</td>\n",
              "      <td>3</td>\n",
              "      <td>BHDDB</td>\n",
              "      <td>Buet_Broncos</td>\n",
              "      <td>training-a</td>\n",
              "    </tr>\n",
              "    <tr>\n",
              "      <th>2</th>\n",
              "      <td>a00002.png</td>\n",
              "      <td>18</td>\n",
              "      <td>1</td>\n",
              "      <td>BHDDB</td>\n",
              "      <td>Buet_Broncos</td>\n",
              "      <td>training-a</td>\n",
              "    </tr>\n",
              "    <tr>\n",
              "      <th>3</th>\n",
              "      <td>a00003.png</td>\n",
              "      <td>166</td>\n",
              "      <td>7</td>\n",
              "      <td>BHDDB</td>\n",
              "      <td>Buet_Broncos</td>\n",
              "      <td>training-a</td>\n",
              "    </tr>\n",
              "    <tr>\n",
              "      <th>4</th>\n",
              "      <td>a00004.png</td>\n",
              "      <td>108</td>\n",
              "      <td>0</td>\n",
              "      <td>BHDDB</td>\n",
              "      <td>Buet_Broncos</td>\n",
              "      <td>training-a</td>\n",
              "    </tr>\n",
              "  </tbody>\n",
              "</table>\n",
              "</div>"
            ],
            "text/plain": [
              "     filename  scanid  ...  contributing team database name\n",
              "0  a00000.png      58  ...       Buet_Broncos    training-a\n",
              "1  a00001.png      73  ...       Buet_Broncos    training-a\n",
              "2  a00002.png      18  ...       Buet_Broncos    training-a\n",
              "3  a00003.png     166  ...       Buet_Broncos    training-a\n",
              "4  a00004.png     108  ...       Buet_Broncos    training-a\n",
              "\n",
              "[5 rows x 6 columns]"
            ]
          },
          "metadata": {},
          "execution_count": 11
        }
      ]
    },
    {
      "cell_type": "code",
      "metadata": {
        "id": "0CEXHUHy2FK6"
      },
      "source": [
        "dataset1.drop('scanid',axis=1,inplace=True)\n",
        "dataset1.drop('database name original',axis=1,inplace=True)"
      ],
      "execution_count": null,
      "outputs": []
    },
    {
      "cell_type": "code",
      "metadata": {
        "colab": {
          "base_uri": "https://localhost:8080/",
          "height": 204
        },
        "id": "M7juo7cH2Wkk",
        "outputId": "5531e8c6-189e-465e-93f6-974146f9ef77"
      },
      "source": [
        "dataset1.head()"
      ],
      "execution_count": null,
      "outputs": [
        {
          "output_type": "execute_result",
          "data": {
            "text/html": [
              "<div>\n",
              "<style scoped>\n",
              "    .dataframe tbody tr th:only-of-type {\n",
              "        vertical-align: middle;\n",
              "    }\n",
              "\n",
              "    .dataframe tbody tr th {\n",
              "        vertical-align: top;\n",
              "    }\n",
              "\n",
              "    .dataframe thead th {\n",
              "        text-align: right;\n",
              "    }\n",
              "</style>\n",
              "<table border=\"1\" class=\"dataframe\">\n",
              "  <thead>\n",
              "    <tr style=\"text-align: right;\">\n",
              "      <th></th>\n",
              "      <th>filename</th>\n",
              "      <th>digit</th>\n",
              "      <th>contributing team</th>\n",
              "      <th>database name</th>\n",
              "    </tr>\n",
              "  </thead>\n",
              "  <tbody>\n",
              "    <tr>\n",
              "      <th>0</th>\n",
              "      <td>a00000.png</td>\n",
              "      <td>5</td>\n",
              "      <td>Buet_Broncos</td>\n",
              "      <td>training-a</td>\n",
              "    </tr>\n",
              "    <tr>\n",
              "      <th>1</th>\n",
              "      <td>a00001.png</td>\n",
              "      <td>3</td>\n",
              "      <td>Buet_Broncos</td>\n",
              "      <td>training-a</td>\n",
              "    </tr>\n",
              "    <tr>\n",
              "      <th>2</th>\n",
              "      <td>a00002.png</td>\n",
              "      <td>1</td>\n",
              "      <td>Buet_Broncos</td>\n",
              "      <td>training-a</td>\n",
              "    </tr>\n",
              "    <tr>\n",
              "      <th>3</th>\n",
              "      <td>a00003.png</td>\n",
              "      <td>7</td>\n",
              "      <td>Buet_Broncos</td>\n",
              "      <td>training-a</td>\n",
              "    </tr>\n",
              "    <tr>\n",
              "      <th>4</th>\n",
              "      <td>a00004.png</td>\n",
              "      <td>0</td>\n",
              "      <td>Buet_Broncos</td>\n",
              "      <td>training-a</td>\n",
              "    </tr>\n",
              "  </tbody>\n",
              "</table>\n",
              "</div>"
            ],
            "text/plain": [
              "     filename  digit contributing team database name\n",
              "0  a00000.png      5      Buet_Broncos    training-a\n",
              "1  a00001.png      3      Buet_Broncos    training-a\n",
              "2  a00002.png      1      Buet_Broncos    training-a\n",
              "3  a00003.png      7      Buet_Broncos    training-a\n",
              "4  a00004.png      0      Buet_Broncos    training-a"
            ]
          },
          "metadata": {},
          "execution_count": 13
        }
      ]
    },
    {
      "cell_type": "code",
      "metadata": {
        "colab": {
          "base_uri": "https://localhost:8080/",
          "height": 204
        },
        "id": "_eQlfc9Y2Z2m",
        "outputId": "090245ad-d8c1-48c6-94ed-b5b769c71884"
      },
      "source": [
        "dataset1.drop('contributing team',axis=1,inplace=True)\n",
        "dataset1.drop('database name',axis=1,inplace=True)\n",
        "dataset1.head()"
      ],
      "execution_count": null,
      "outputs": [
        {
          "output_type": "execute_result",
          "data": {
            "text/html": [
              "<div>\n",
              "<style scoped>\n",
              "    .dataframe tbody tr th:only-of-type {\n",
              "        vertical-align: middle;\n",
              "    }\n",
              "\n",
              "    .dataframe tbody tr th {\n",
              "        vertical-align: top;\n",
              "    }\n",
              "\n",
              "    .dataframe thead th {\n",
              "        text-align: right;\n",
              "    }\n",
              "</style>\n",
              "<table border=\"1\" class=\"dataframe\">\n",
              "  <thead>\n",
              "    <tr style=\"text-align: right;\">\n",
              "      <th></th>\n",
              "      <th>filename</th>\n",
              "      <th>digit</th>\n",
              "    </tr>\n",
              "  </thead>\n",
              "  <tbody>\n",
              "    <tr>\n",
              "      <th>0</th>\n",
              "      <td>a00000.png</td>\n",
              "      <td>5</td>\n",
              "    </tr>\n",
              "    <tr>\n",
              "      <th>1</th>\n",
              "      <td>a00001.png</td>\n",
              "      <td>3</td>\n",
              "    </tr>\n",
              "    <tr>\n",
              "      <th>2</th>\n",
              "      <td>a00002.png</td>\n",
              "      <td>1</td>\n",
              "    </tr>\n",
              "    <tr>\n",
              "      <th>3</th>\n",
              "      <td>a00003.png</td>\n",
              "      <td>7</td>\n",
              "    </tr>\n",
              "    <tr>\n",
              "      <th>4</th>\n",
              "      <td>a00004.png</td>\n",
              "      <td>0</td>\n",
              "    </tr>\n",
              "  </tbody>\n",
              "</table>\n",
              "</div>"
            ],
            "text/plain": [
              "     filename  digit\n",
              "0  a00000.png      5\n",
              "1  a00001.png      3\n",
              "2  a00002.png      1\n",
              "3  a00003.png      7\n",
              "4  a00004.png      0"
            ]
          },
          "metadata": {},
          "execution_count": 14
        }
      ]
    },
    {
      "cell_type": "code",
      "metadata": {
        "id": "Ho2BGVeh0XJf"
      },
      "source": [
        "import os\n",
        "from skimage import io"
      ],
      "execution_count": null,
      "outputs": []
    },
    {
      "cell_type": "code",
      "metadata": {
        "colab": {
          "base_uri": "https://localhost:8080/",
          "height": 419
        },
        "id": "POD9OgPK3PQS",
        "outputId": "fa9587c3-5ade-4196-f9e2-259a285024d6"
      },
      "source": [
        "dataset1"
      ],
      "execution_count": null,
      "outputs": [
        {
          "output_type": "execute_result",
          "data": {
            "text/html": [
              "<div>\n",
              "<style scoped>\n",
              "    .dataframe tbody tr th:only-of-type {\n",
              "        vertical-align: middle;\n",
              "    }\n",
              "\n",
              "    .dataframe tbody tr th {\n",
              "        vertical-align: top;\n",
              "    }\n",
              "\n",
              "    .dataframe thead th {\n",
              "        text-align: right;\n",
              "    }\n",
              "</style>\n",
              "<table border=\"1\" class=\"dataframe\">\n",
              "  <thead>\n",
              "    <tr style=\"text-align: right;\">\n",
              "      <th></th>\n",
              "      <th>filename</th>\n",
              "      <th>digit</th>\n",
              "    </tr>\n",
              "  </thead>\n",
              "  <tbody>\n",
              "    <tr>\n",
              "      <th>0</th>\n",
              "      <td>a00000.png</td>\n",
              "      <td>5</td>\n",
              "    </tr>\n",
              "    <tr>\n",
              "      <th>1</th>\n",
              "      <td>a00001.png</td>\n",
              "      <td>3</td>\n",
              "    </tr>\n",
              "    <tr>\n",
              "      <th>2</th>\n",
              "      <td>a00002.png</td>\n",
              "      <td>1</td>\n",
              "    </tr>\n",
              "    <tr>\n",
              "      <th>3</th>\n",
              "      <td>a00003.png</td>\n",
              "      <td>7</td>\n",
              "    </tr>\n",
              "    <tr>\n",
              "      <th>4</th>\n",
              "      <td>a00004.png</td>\n",
              "      <td>0</td>\n",
              "    </tr>\n",
              "    <tr>\n",
              "      <th>...</th>\n",
              "      <td>...</td>\n",
              "      <td>...</td>\n",
              "    </tr>\n",
              "    <tr>\n",
              "      <th>19697</th>\n",
              "      <td>a19697.png</td>\n",
              "      <td>4</td>\n",
              "    </tr>\n",
              "    <tr>\n",
              "      <th>19698</th>\n",
              "      <td>a19698.png</td>\n",
              "      <td>3</td>\n",
              "    </tr>\n",
              "    <tr>\n",
              "      <th>19699</th>\n",
              "      <td>a19699.png</td>\n",
              "      <td>8</td>\n",
              "    </tr>\n",
              "    <tr>\n",
              "      <th>19700</th>\n",
              "      <td>a19700.png</td>\n",
              "      <td>3</td>\n",
              "    </tr>\n",
              "    <tr>\n",
              "      <th>19701</th>\n",
              "      <td>a19701.png</td>\n",
              "      <td>8</td>\n",
              "    </tr>\n",
              "  </tbody>\n",
              "</table>\n",
              "<p>19702 rows × 2 columns</p>\n",
              "</div>"
            ],
            "text/plain": [
              "         filename  digit\n",
              "0      a00000.png      5\n",
              "1      a00001.png      3\n",
              "2      a00002.png      1\n",
              "3      a00003.png      7\n",
              "4      a00004.png      0\n",
              "...           ...    ...\n",
              "19697  a19697.png      4\n",
              "19698  a19698.png      3\n",
              "19699  a19699.png      8\n",
              "19700  a19700.png      3\n",
              "19701  a19701.png      8\n",
              "\n",
              "[19702 rows x 2 columns]"
            ]
          },
          "metadata": {},
          "execution_count": 15
        }
      ]
    },
    {
      "cell_type": "code",
      "metadata": {
        "id": "PTzEV1Ng3VwJ"
      },
      "source": [
        "dataset1.to_csv('updated_dataset.csv',index=False)"
      ],
      "execution_count": null,
      "outputs": []
    },
    {
      "cell_type": "code",
      "metadata": {
        "colab": {
          "base_uri": "https://localhost:8080/"
        },
        "id": "daoN7yyD3V3e",
        "outputId": "a68d462c-b8a4-4302-d5b7-da3c1df0d1ef"
      },
      "source": [
        "ls"
      ],
      "execution_count": null,
      "outputs": [
        {
          "output_type": "stream",
          "name": "stdout",
          "text": [
            "\u001b[0m\u001b[01;34msample_data\u001b[0m/  updated_dataset.csv\n"
          ]
        }
      ]
    },
    {
      "cell_type": "code",
      "metadata": {
        "id": "-B4YYgGSXI6U"
      },
      "source": [
        "IMAGE_SIZE = 40 \n",
        "transform = transforms.Compose([\n",
        "                                transforms.ToPILImage(),\n",
        "                                # transforms.Grayscale(),\n",
        "                                torchvision.transforms.ColorJitter(brightness=0.4,saturation=0.4,contrast=0.4,hue=0.4),\n",
        "                                transforms.RandomRotation(20,expand=True), \n",
        "                                transforms.Resize(IMAGE_SIZE),  ## image resize\n",
        "                                transforms.CenterCrop(IMAGE_SIZE), ## image center crop\n",
        "                                transforms.ToTensor(), ## array converted into torch tensor and then divided by 255 (1.0/255)\n",
        "                                transforms.Normalize((0.5, 0.5, 0.5), (0.5, 0.5, 0.5))\n",
        "                               ])"
      ],
      "execution_count": null,
      "outputs": []
    },
    {
      "cell_type": "code",
      "metadata": {
        "id": "ugnY0rPL3-Hm"
      },
      "source": [
        "class DigitFindingDataset(Dataset):\n",
        "  def _init_(self,csv_file,root_dir,tranform=None):\n",
        "    self.annotations=pd.read_csv(csv_file)\n",
        "    self.root_dir=root_dir\n",
        "    self.transform=transform"
      ],
      "execution_count": null,
      "outputs": []
    },
    {
      "cell_type": "code",
      "metadata": {
        "id": "tDdAAzy04hRT"
      },
      "source": [
        "def _len_(self):\n",
        "  return len(self.annotations)"
      ],
      "execution_count": null,
      "outputs": []
    },
    {
      "cell_type": "code",
      "metadata": {
        "id": "l-g_CJIf4pRT"
      },
      "source": [
        "def _getitem_(self,index):\n",
        "  img_path=os.path.join(self.root_dir,self.annotations.iloc[index,0])\n",
        "  image=io.imread(img_path)\n",
        "  y_label=torch.tensor(int(self.annotations.iloc[index,1]))\n",
        "\n",
        "  if self.transform:\n",
        "    image=self.tranform(image)\n",
        "\n",
        "  return (image, y_label)"
      ],
      "execution_count": null,
      "outputs": []
    },
    {
      "cell_type": "code",
      "metadata": {
        "id": "NHOPlTAMd89a"
      },
      "source": [
        "dataset=DigitFindingDataset(csv_file=\"/content/drive/MyDrive/Assignment/updated_dataset.csv\", root_dir=\"/content/drive/MyDrive/Assignment/training-a\", transform=transforms.ToTensor())"
      ],
      "execution_count": null,
      "outputs": []
    },
    {
      "cell_type": "code",
      "metadata": {
        "id": "Bp-M7ymgf6kS"
      },
      "source": [
        "train_set, test_set=torch.utils.data.random_split(dataset,[15700, 4003])\n",
        "train_loader=DataLoader(dataset=train_set, batch_size=batch_size, shuffle=True)\n",
        "test_loader=DataLoader(dataset=test_set, batch_size=batch_size, shuffle=True)"
      ],
      "execution_count": null,
      "outputs": []
    },
    {
      "cell_type": "code",
      "metadata": {
        "colab": {
          "base_uri": "https://localhost:8080/"
        },
        "id": "jh_STz3dYCWU",
        "outputId": "bdc51648-3508-4df9-f15f-135f5cce5984"
      },
      "source": [
        "data_iter = iter(train_loader)\n",
        "images, labels = data_iter.next()\n",
        "images.shape"
      ],
      "execution_count": null,
      "outputs": [
        {
          "output_type": "execute_result",
          "data": {
            "text/plain": [
              "torch.Size([20, 3, 40, 40])"
            ]
          },
          "metadata": {},
          "execution_count": 18
        }
      ]
    },
    {
      "cell_type": "code",
      "metadata": {
        "colab": {
          "base_uri": "https://localhost:8080/",
          "height": 158
        },
        "id": "RCamaHieYFm-",
        "outputId": "0f38a704-5d01-464c-dbf8-aafb62bdeb59"
      },
      "source": [
        "dataiter = iter(train_loader)\n",
        "images, labels = dataiter.next() \n",
        "plt.subplots(figsize=(20, 32))\n",
        "for i in range(10):\n",
        "    plt.subplot(10/2, 10,i+1)\n",
        "    img = images[i].detach().numpy().transpose((1, 2, 0))\n",
        "    mean = np.array([0.5, 0.5, 0.5]) \n",
        "    std = np.array([0.5, 0.5, 0.5])\n",
        "    img = std * img + mean\n",
        "    img = np.clip(img, 0, 1)\n",
        "    plt.title(labels[i])\n",
        "    plt.imshow(img)\n",
        "    plt.show()"
      ],
      "execution_count": null,
      "outputs": [
        {
          "output_type": "display_data",
          "data": {
            "image/png": "[encoded data removed]",
            "text/plain": [
              "<Figure size 1440x2304 with 10 Axes>"
            ]
          },
          "metadata": {
            "needs_background": "light"
          }
        }
      ]
    },
    {
      "cell_type": "code",
      "metadata": {
        "id": "LJoc1nvPJqqt"
      },
      "source": [
        "batch_size=100\n",
        "num_iteration=1000\n",
        "input_dimension=180*180\n",
        "num_hiddennodes=20\n",
        "output_dimension=10\n",
        "learning_rate=.02\n",
        "hidden_layers=4\n",
        "device = torch.device(\"cuda:0\" if torch.cuda.is_available() else \"cpu\")"
      ],
      "execution_count": null,
      "outputs": []
    },
    {
      "cell_type": "code",
      "metadata": {
        "id": "T0jY7KZ0E50C"
      },
      "source": [
        "class DeepNeuralNetworkModel(nn.Module):\n",
        "    def __init__(self, input_size, num_classes, num_hiddennodes):\n",
        "        super().__init__()\n",
        "        self.linear_1 = nn.Linear(input_size, num_hiddennodes)\n",
        "        self.leakyrelu_1 = nn.LeakyReLU()\n",
        "\n",
        "        #self.linear_2 = nn.Linear(num_hiddennodes, num_hiddennodes)\n",
        "        #self.softshrink_1 = nn.Softshrink()\n",
        "  \n",
        "        #self.linear_3 = nn.Linear(num_hiddennodes, num_hiddennodes)\n",
        "       # self.hardtanh_1 = nn.Hardtanh()\n",
        "\n",
        "        self.linear_4 = nn.Linear(num_hiddennodes,num_hiddennodes)\n",
        "        self.logsigmoid_1 = nn.LogSigmoid()\n",
        "\n",
        "        self.linear_out = nn.Linear(num_hiddennodes, num_classes)\n",
        "\n",
        "    def forward(self, x):\n",
        "       \n",
        "        out = self.linear_1(x)\n",
        "        out = self.leakyrelu_1(out)\n",
        "        \n",
        "        #out  = self.linear_2(out)\n",
        "        #out = self.softshrink_1(out)\n",
        "\n",
        "        #out  = self.linear_3(out)\n",
        "        #out = self.hardtanh_1(out)\n",
        "\n",
        "        out  = self.linear_4(out)\n",
        "        out = self.logsigmoid_1(out)\n",
        "\n",
        "        probas  = self.linear_out(out)\n",
        "        return probas\n",
        "\n",
        "model = DeepNeuralNetworkModel(input_size = input_dimension,\n",
        "                               num_classes = output_dimension,\n",
        "                               num_hiddennodes = num_hiddennodes)\n",
        "model.to(device)\n",
        "\n",
        "criterion = nn.CrossEntropyLoss()\n",
        "optimizer = torch.optim.SGD(model.parameters(), lr=learning_rate)\n",
        "\n",
        "iteration_loss = []\n",
        "iter = 0\n",
        "for epoch in range(num_epoch):\n",
        "    for i, (images, labels) in enumerate(train_loader):\n",
        "\n",
        "        images = images.view(-1, 3*40*40).to(device)\n",
        "        labels = labels.to(device)\n",
        "\n",
        "        optimizer.zero_grad()\n",
        "\n",
        "        # Forward pass to get output/logits\n",
        "        outputs = model(images) \n",
        "\n",
        "        # Calculate Loss: softmax --> cross entropy loss\n",
        "        loss = criterion(outputs, labels)\n",
        "\n",
        "        # Getting gradients w.r.t. parameters\n",
        "        loss.backward()\n",
        "\n",
        "        # Updating parameters\n",
        "        optimizer.step()\n",
        "\n",
        "        iter += 1\n",
        "\n",
        "        if iter % 500 == 0:\n",
        "            # Calculate Accuracy         \n",
        "            correct = 0\n",
        "            total = 0\n",
        "            # Iterate through test dataset\n",
        "            for images, labels in test_loader:\n",
        "               \n",
        "                images = images.view(-1, 3*40*40).to(device)\n",
        "\n",
        "                outputs = model(images)\n",
        "\n",
        "                _, predicted = torch.max(outputs, 1)\n",
        "\n",
        "                total += labels.size(0)\n",
        "\n",
        "\n",
        "                if torch.cuda.is_available():\n",
        "                    correct += (predicted.cpu() == labels.cpu()).sum() \n",
        "                else:\n",
        "                    correct += (predicted == labels).sum()\n",
        "\n",
        "            accuracy = 100 * correct.item() / total\n",
        "\n",
        "            iteration_loss.append(loss.item())\n",
        "            print('Iteration: {}. Loss: {}. Accuracy: {}'.format(iter, loss.item(), accuracy))"
      ],
      "execution_count": null,
      "outputs": []
    },
    {
      "cell_type": "code",
      "metadata": {
        "id": "mtjcVx9cq21j",
        "colab": {
          "base_uri": "https://localhost:8080/",
          "height": 316
        },
        "outputId": "ce7cf596-898f-4ca8-85a3-a6bb996dbd8d"
      },
      "source": [
        "import matplotlib\n",
        "import matplotlib.pyplot as plt\n",
        "\n",
        "print (iteration_loss)\n",
        "plt.plot(iteration_loss)\n",
        "plt.ylabel('Cross Entropy Loss')\n",
        "plt.xlabel('Iteration (in every 500)')\n",
        "plt.show()"
      ],
      "execution_count": null,
      "outputs": [
        {
          "output_type": "stream",
          "name": "stdout",
          "text": [
            "[2.299708366394043, 2.0467870235443115, 1.2123138904571533, 0.6822490096092224, 0.4486219882965088, 0.24277591705322266, 0.33326977491378784, 0.2884293794631958, 0.29108020663261414, 0.31275543570518494, 0.3199012279510498, 0.32454678416252136, 0.2716137766838074, 0.4110594093799591, 0.21572823822498322, 0.2877638339996338, 0.18067780137062073, 0.3477727770805359, 0.30747485160827637]\n"
          ]
        },
        {
          "output_type": "display_data",
          "data": {
            "image/png": "[encoded data removed]",
            "text/plain": [
              "<Figure size 432x288 with 1 Axes>"
            ]
          },
          "metadata": {
            "needs_background": "light"
          }
        }
      ]
    }
  ]
}