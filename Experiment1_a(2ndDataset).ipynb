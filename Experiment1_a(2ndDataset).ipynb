{
  "nbformat": 4,
  "nbformat_minor": 0,
  "metadata": {
    "colab": {
      "name": "Experiment1_a(2ndDataset).ipynb",
      "provenance": [],
      "include_colab_link": true
    },
    "kernelspec": {
      "name": "python3",
      "display_name": "Python 3"
    },
    "language_info": {
      "name": "python"
    },
    "accelerator": "GPU"
  },
  "cells": [
    {
      "cell_type": "markdown",
      "metadata": {
        "id": "view-in-github",
        "colab_type": "text"
      },
      "source": [
        "<a href=\"https://colab.research.google.com/github/TasnimJumara/TableAssignmentFirst/blob/master/Experiment1_a(2ndDataset).ipynb\" target=\"_parent\"><img src=\"https://colab.research.google.com/assets/colab-badge.svg\" alt=\"Open In Colab\"/></a>"
      ]
    },
    {
      "cell_type": "code",
      "metadata": {
        "id": "Z8uEVwddtzIq"
      },
      "source": [
        "import torch\n",
        "import torch.nn as nn\n",
        "import torch.optim as optim\n",
        "import torchvision.transforms as transforms\n",
        "import torchvision\n",
        "from torch.utils.data import DataLoader\n",
        "from torch.utils.data import Dataset\n",
        "import torchvision.datasets as data\n",
        "import cv2\n",
        "import numpy as np"
      ],
      "execution_count": null,
      "outputs": []
    },
    {
      "cell_type": "code",
      "metadata": {
        "id": "oj9U1AhLwDJk"
      },
      "source": [
        "device=torch.device('cuda' if torch.cuda.is_available() else 'cpu')"
      ],
      "execution_count": null,
      "outputs": []
    },
    {
      "cell_type": "code",
      "metadata": {
        "colab": {
          "base_uri": "https://localhost:8080/"
        },
        "id": "k_2nhF8DJIUw",
        "outputId": "ecf44f74-80bb-4ca0-9159-af252657e652"
      },
      "source": [
        "print(device)"
      ],
      "execution_count": null,
      "outputs": [
        {
          "output_type": "stream",
          "name": "stdout",
          "text": [
            "cuda\n"
          ]
        }
      ]
    },
    {
      "cell_type": "code",
      "metadata": {
        "id": "kV0Ou6Tdwoz8"
      },
      "source": [
        "import pandas as pd"
      ],
      "execution_count": null,
      "outputs": []
    },
    {
      "cell_type": "code",
      "metadata": {
        "id": "Ho2BGVeh0XJf"
      },
      "source": [
        "import os\n",
        "from skimage import io"
      ],
      "execution_count": null,
      "outputs": []
    },
    {
      "cell_type": "code",
      "metadata": {
        "colab": {
          "base_uri": "https://localhost:8080/"
        },
        "id": "XEP4dN3L4eji",
        "outputId": "46f47f70-78b3-4a17-feb8-0fc4ecc16328"
      },
      "source": [
        "from google.colab import drive\n",
        "drive.mount('/content/drive')"
      ],
      "execution_count": null,
      "outputs": [
        {
          "output_type": "stream",
          "name": "stdout",
          "text": [
            "Mounted at /content/drive\n"
          ]
        }
      ]
    },
    {
      "cell_type": "code",
      "metadata": {
        "id": "LJoc1nvPJqqt"
      },
      "source": [
        "batch_size=20\n",
        "num_iteration=20000\n",
        "input_dimension=28*28\n",
        "num_hiddennodes=200\n",
        "output_dimension=10\n",
        "learning_rate=.01\n",
        "hidden_layers=6\n",
        "device = torch.device(\"cuda:0\" if torch.cuda.is_available() else \"cpu\")"
      ],
      "execution_count": null,
      "outputs": []
    },
    {
      "cell_type": "code",
      "metadata": {
        "id": "eUumuKA-cahD"
      },
      "source": [
        "\n",
        "train_dataset = (r \"/content/drive/MyDrive/Assignment/Dataset_2/verification_train.csv\" train=True, transform=transforms.ToTensor())\n",
        "\n",
        "test_dataset = (r \"/content/drive/MyDrive/Assignment/Dataset_2/verification_test.csv\" train=True, transform=transforms.ToTensor())\n",
        "\n",
        "\n",
        "num_epochs = num_iters / (len(train_dataset) / batch_size)\n",
        "num_epochs = int(num_epochs)\n",
        "\n",
        "train_loader = torch.utils.data.DataLoader(dataset=train_dataset, \n",
        "                                           batch_size=batch_size, \n",
        "                                           shuffle=True)   \n",
        "test_loader = torch.utils.data.DataLoader(dataset=test_dataset, \n",
        "                                          batch_size=batch_size, \n",
        "                                          shuffle=False)  "
      ],
      "execution_count": null,
      "outputs": []
    },
    {
      "cell_type": "code",
      "metadata": {
        "id": "T0jY7KZ0E50C"
      },
      "source": [
        "class DeepNeuralNetworkModel(nn.Module):\n",
        "    def __init__(self, input_size, num_classes, num_hiddennodes):\n",
        "        super().__init__()\n",
        "        self.linear_1 = nn.Linear(input_size, num_hiddennodes)\n",
        "        self.sigmoid_1 = nn.Sigmoid()\n",
        "\n",
        "        #self.linear_2 = nn.Linear(num_hiddennodes, num_hiddennodes)\n",
        "        #self.sigmoid_2 = nn.Sigmoid()\n",
        "  \n",
        "        #self.linear_3 = nn.Linear(num_hiddennodes, num_hiddennodes)\n",
        "        #self.relu_1 = nn.ReLU()\n",
        "\n",
        "        #self.linear_4 = nn.Linear(num_hiddennodes,num_hiddennodes)\n",
        "        #self.relu_2 = nn.ReLU()\n",
        "\n",
        "        self.linear_5 = nn.Linear(num_hiddennodes,num_hiddennodes)\n",
        "        self.sigmoid_3 = nn.Sigmoid()\n",
        "\n",
        "        self.linear_6 = nn.Linear(num_hiddennodes,num_hiddennodes)\n",
        "        self.relu_3 = nn.ReLU()\n",
        "\n",
        "        self.linear_out = nn.Linear(num_hiddennodes, num_classes)\n",
        "\n",
        "    def forward(self, x):\n",
        "       \n",
        "        out = self.linear_1(x)\n",
        "        out = self.sigmoid_1(out)\n",
        "        \n",
        "        #out  = self.linear_2(out)\n",
        "        #out = self.sigmoid_2(out)\n",
        "\n",
        "        #out  = self.linear_3(out)\n",
        "        #out = self.relu_1(out)\n",
        "\n",
        "        #out  = self.linear_4(out)\n",
        "        #out = self.relu_2(out)\n",
        "\n",
        "        out  = self.linear_5(out)\n",
        "        out = self.sigmoid_3(out)\n",
        "\n",
        "        out  = self.linear_6(out)\n",
        "        out = self.relu_3(out)\n",
        "        \n",
        "        probas  = self.linear_out(out)\n",
        "        return probas\n",
        "\n",
        "model = DeepNeuralNetworkModel(input_size = input_dimension,\n",
        "                               num_classes = output_dimension,\n",
        "                               num_hiddennodes = num_hiddennodes)\n",
        "model.to(device)\n",
        "\n",
        "criterion = nn.CrossEntropyLoss()\n",
        "optimizer = torch.optim.SGD(model.parameters(), lr=learning_rate)\n",
        "\n",
        "iteration_loss = []\n",
        "iter = 0\n",
        "for epoch in range(num_epoch):\n",
        "    for i, (images, labels) in enumerate(train_loader):\n",
        "\n",
        "        images = images.view(-1, 28*28).to(device)\n",
        "        labels = labels.to(device)\n",
        "\n",
        "        # Clear gradients w.r.t. parameters\n",
        "        optimizer.zero_grad()\n",
        "\n",
        "        # Forward pass to get output/logits\n",
        "        outputs = model(images) \n",
        "\n",
        "        # Calculate Loss: softmax --> cross entropy loss\n",
        "        loss = criterion(outputs, labels)\n",
        "\n",
        "        # Getting gradients w.r.t. parameters\n",
        "        loss.backward()\n",
        "\n",
        "        # Updating parameters\n",
        "        optimizer.step()\n",
        "\n",
        "        iter += 1\n",
        "\n",
        "        if iter % 500 == 0:\n",
        "            # Calculate Accuracy         \n",
        "            correct = 0\n",
        "            total = 0\n",
        "            # Iterate through test dataset\n",
        "            for images, labels in test_loader:\n",
        "               \n",
        "                images = images.view(-1, 28*28).to(device)\n",
        "\n",
        "                outputs = model(images)\n",
        "\n",
        "                _, predicted = torch.max(outputs, 1)\n",
        "\n",
        "                total += labels.size(0)\n",
        "\n",
        "\n",
        "                if torch.cuda.is_available():\n",
        "                    correct += (predicted.cpu() == labels.cpu()).sum() \n",
        "                else:\n",
        "                    correct += (predicted == labels).sum()\n",
        "\n",
        "            accuracy = 100 * correct.item() / total\n",
        "\n",
        "            iteration_loss.append(loss.item())\n",
        "            print('Iteration: {}. Loss: {}. Accuracy: {}'.format(iter, loss.item(), accuracy))"
      ],
      "execution_count": null,
      "outputs": []
    },
    {
      "cell_type": "code",
      "metadata": {
        "id": "mtjcVx9cq21j"
      },
      "source": [
        "import matplotlib\n",
        "import matplotlib.pyplot as plt\n",
        "\n",
        "print (iteration_loss)\n",
        "plt.plot(iteration_loss)\n",
        "plt.ylabel('Cross Entropy Loss')\n",
        "plt.xlabel('Iteration (in every 500)')\n",
        "plt.show()"
      ],
      "execution_count": null,
      "outputs": []
    }
  ]
}