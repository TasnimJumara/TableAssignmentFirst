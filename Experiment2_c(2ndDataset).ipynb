{
  "nbformat": 4,
  "nbformat_minor": 0,
  "metadata": {
    "colab": {
      "name": "Experiment2_c(2ndDataset).ipynb",
      "provenance": [],
      "include_colab_link": true
    },
    "kernelspec": {
      "name": "python3",
      "display_name": "Python 3"
    },
    "language_info": {
      "name": "python"
    },
    "accelerator": "GPU"
  },
  "cells": [
    {
      "cell_type": "markdown",
      "metadata": {
        "id": "view-in-github",
        "colab_type": "text"
      },
      "source": [
        "<a href=\"https://colab.research.google.com/github/TasnimJumara/TableAssignmentFirst/blob/master/Experiment2_c(2ndDataset).ipynb\" target=\"_parent\"><img src=\"https://colab.research.google.com/assets/colab-badge.svg\" alt=\"Open In Colab\"/></a>"
      ]
    },
    {
      "cell_type": "code",
      "metadata": {
        "id": "Z8uEVwddtzIq"
      },
      "source": [
        "import torch\n",
        "import torch.nn as nn\n",
        "import torch.optim as optim\n",
        "import torchvision.transforms as transforms\n",
        "import torchvision\n",
        "from torch.utils.data import DataLoader\n",
        "from torch.utils.data import Dataset\n",
        "import cv2\n",
        "from customDataset import DigitFindingDataset"
      ],
      "execution_count": null,
      "outputs": []
    },
    {
      "cell_type": "code",
      "metadata": {
        "colab": {
          "base_uri": "https://localhost:8080/"
        },
        "id": "sbWahSQHmLiQ",
        "outputId": "e9114f0c-cc7f-419f-9b9e-f536c070e922"
      },
      "source": [
        "from google.colab import drive\n",
        "drive.mount('/content/drive')"
      ],
      "execution_count": null,
      "outputs": [
        {
          "output_type": "stream",
          "name": "stdout",
          "text": [
            "Mounted at /content/drive\n"
          ]
        }
      ]
    },
    {
      "cell_type": "code",
      "metadata": {
        "id": "oj9U1AhLwDJk"
      },
      "source": [
        "device=torch.device('cuda' if torch.cuda.is_available() else 'cpu')"
      ],
      "execution_count": null,
      "outputs": []
    },
    {
      "cell_type": "code",
      "metadata": {
        "colab": {
          "base_uri": "https://localhost:8080/"
        },
        "id": "k_2nhF8DJIUw",
        "outputId": "c68f355c-065b-4b0e-ddb8-d075276cd378"
      },
      "source": [
        "print(device)"
      ],
      "execution_count": null,
      "outputs": [
        {
          "output_type": "stream",
          "name": "stdout",
          "text": [
            "cuda\n"
          ]
        }
      ]
    },
    {
      "cell_type": "code",
      "metadata": {
        "id": "kV0Ou6Tdwoz8"
      },
      "source": [
        "import pandas as pd"
      ],
      "execution_count": null,
      "outputs": []
    },
    {
      "cell_type": "code",
      "metadata": {
        "id": "Ho2BGVeh0XJf"
      },
      "source": [
        "import os\n",
        "from skimage import io"
      ],
      "execution_count": null,
      "outputs": []
    },
    {
      "cell_type": "code",
      "metadata": {
        "id": "PTzEV1Ng3VwJ"
      },
      "source": [
        "dataset1.to_csv('updated_dataset.csv',index=False)"
      ],
      "execution_count": null,
      "outputs": []
    },
    {
      "cell_type": "code",
      "metadata": {
        "id": "LJoc1nvPJqqt"
      },
      "source": [
        "batch_size=100\n",
        "num_iteration=1000\n",
        "input_dimension=28*28\n",
        "num_hiddennodes=20\n",
        "output_dimension=10\n",
        "learning_rate=.02\n",
        "hidden_layers=4\n",
        "device = torch.device(\"cuda:0\" if torch.cuda.is_available() else \"cpu\")"
      ],
      "execution_count": null,
      "outputs": []
    },
    {
      "cell_type": "code",
      "metadata": {
        "id": "eUumuKA-cahD"
      },
      "source": [
        "train_dataset = (r \"/content/drive/MyDrive/Assignment/Dataset_2/verification_train.csv\" train=True, transform=transforms.ToTensor())\n",
        "\n",
        "test_dataset = (r \"/content/drive/MyDrive/Assignment/Dataset_2/verification_test.csv\" train=True, transform=transforms.ToTensor())\n",
        "\n",
        "\n",
        "num_epochs = num_iters / (len(train_dataset) / batch_size)\n",
        "num_epochs = int(num_epochs)\n",
        "\n",
        "train_loader = torch.utils.data.DataLoader(dataset=train_dataset, \n",
        "                                           batch_size=batch_size, \n",
        "                                           shuffle=True)   \n",
        "test_loader = torch.utils.data.DataLoader(dataset=test_dataset, \n",
        "                                          batch_size=batch_size, \n",
        "                                          shuffle=False)  "
      ],
      "execution_count": null,
      "outputs": []
    },
    {
      "cell_type": "code",
      "metadata": {
        "id": "T0jY7KZ0E50C"
      },
      "source": [
        "class DeepNeuralNetworkModel(nn.Module):\n",
        "    def __init__(self, input_size, num_classes, num_hiddennodes):\n",
        "        super().__init__()\n",
        "        self.linear_1 = nn.Linear(input_size, num_hiddennodes)\n",
        "        self.leakyrelu_1 = nn.LeakyReLU()\n",
        "\n",
        "        #self.linear_2 = nn.Linear(num_hiddennodes, num_hiddennodes)\n",
        "        #self.softshrink_1 = nn.Softshrink()\n",
        "  \n",
        "        #self.linear_3 = nn.Linear(num_hiddennodes, num_hiddennodes)\n",
        "       # self.hardtanh_1 = nn.Hardtanh()\n",
        "\n",
        "        self.linear_4 = nn.Linear(num_hiddennodes,num_hiddennodes)\n",
        "        self.logsigmoid_1 = nn.LogSigmoid()\n",
        "\n",
        "        self.linear_out = nn.Linear(num_hiddennodes, num_classes)\n",
        "\n",
        "    def forward(self, x):\n",
        "       \n",
        "        out = self.linear_1(x)\n",
        "        out = self.leakyrelu_1(out)\n",
        "        \n",
        "        #out  = self.linear_2(out)\n",
        "        #out = self.softshrink_1(out)\n",
        "\n",
        "        #out  = self.linear_3(out)\n",
        "        #out = self.hardtanh_1(out)\n",
        "\n",
        "        out  = self.linear_4(out)\n",
        "        out = self.logsigmoid_1(out)\n",
        "\n",
        "        probas  = self.linear_out(out)\n",
        "        return probas\n",
        "\n",
        "model = DeepNeuralNetworkModel(input_size = input_dimension,\n",
        "                               num_classes = output_dimension,\n",
        "                               num_hiddennodes = num_hiddennodes)\n",
        "model.to(device)\n",
        "\n",
        "criterion = nn.CrossEntropyLoss()\n",
        "optimizer = torch.optim.SGD(model.parameters(), lr=learning_rate)\n",
        "\n",
        "iteration_loss = []\n",
        "iter = 0\n",
        "for epoch in range(num_epoch):\n",
        "    for i, (images, labels) in enumerate(train_loader):\n",
        "\n",
        "        images = images.view(-1, 28*28).to(device)\n",
        "        labels = labels.to(device)\n",
        "\n",
        "        optimizer.zero_grad()\n",
        "\n",
        "        # Forward pass to get output/logits\n",
        "        outputs = model(images) \n",
        "\n",
        "        # Calculate Loss: softmax --> cross entropy loss\n",
        "        loss = criterion(outputs, labels)\n",
        "\n",
        "        # Getting gradients w.r.t. parameters\n",
        "        loss.backward()\n",
        "\n",
        "        # Updating parameters\n",
        "        optimizer.step()\n",
        "\n",
        "        iter += 1\n",
        "\n",
        "        if iter % 500 == 0:\n",
        "            # Calculate Accuracy         \n",
        "            correct = 0\n",
        "            total = 0\n",
        "            # Iterate through test dataset\n",
        "            for images, labels in test_loader:\n",
        "               \n",
        "                images = images.view(-1, 28*28).to(device)\n",
        "\n",
        "                outputs = model(images)\n",
        "\n",
        "                _, predicted = torch.max(outputs, 1)\n",
        "\n",
        "                total += labels.size(0)\n",
        "\n",
        "\n",
        "                if torch.cuda.is_available():\n",
        "                    correct += (predicted.cpu() == labels.cpu()).sum() \n",
        "                else:\n",
        "                    correct += (predicted == labels).sum()\n",
        "\n",
        "            accuracy = 100 * correct.item() / total\n",
        "\n",
        "            iteration_loss.append(loss.item())\n",
        "            print('Iteration: {}. Loss: {}. Accuracy: {}'.format(iter, loss.item(), accuracy))"
      ],
      "execution_count": null,
      "outputs": []
    },
    {
      "cell_type": "code",
      "metadata": {
        "id": "mtjcVx9cq21j",
        "colab": {
          "base_uri": "https://localhost:8080/",
          "height": 316
        },
        "outputId": "ce7cf596-898f-4ca8-85a3-a6bb996dbd8d"
      },
      "source": [
        "import matplotlib\n",
        "import matplotlib.pyplot as plt\n",
        "\n",
        "print (iteration_loss)\n",
        "plt.plot(iteration_loss)\n",
        "plt.ylabel('Cross Entropy Loss')\n",
        "plt.xlabel('Iteration (in every 500)')\n",
        "plt.show()"
      ],
      "execution_count": null,
      "outputs": [
        {
          "output_type": "stream",
          "name": "stdout",
          "text": [
            "[2.299708366394043, 2.0467870235443115, 1.2123138904571533, 0.6822490096092224, 0.4486219882965088, 0.24277591705322266, 0.33326977491378784, 0.2884293794631958, 0.29108020663261414, 0.31275543570518494, 0.3199012279510498, 0.32454678416252136, 0.2716137766838074, 0.4110594093799591, 0.21572823822498322, 0.2877638339996338, 0.18067780137062073, 0.3477727770805359, 0.30747485160827637]\n"
          ]
        },
        {
          "output_type": "display_data",
          "data": {
            "image/png": "[encoded data removed]",
            "text/plain": [
              "<Figure size 432x288 with 1 Axes>"
            ]
          },
          "metadata": {
            "needs_background": "light"
          }
        }
      ]
    }
  ]
}